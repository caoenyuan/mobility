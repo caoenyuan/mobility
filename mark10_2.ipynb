{
 "cells": [
  {
   "cell_type": "code",
   "execution_count": 1,
   "id": "76a8afe9-1f35-48de-8384-6063d350cbd4",
   "metadata": {},
   "outputs": [],
   "source": [
    "import torch\n",
    "from transformers import AutoModelForCausalLM, AutoTokenizer, TrainingArguments\n",
    "from datasets import load_dataset, Dataset, concatenate_datasets\n",
    "from peft import LoraConfig, get_peft_model, prepare_model_for_kbit_training\n",
    "from trl import SFTTrainer"
   ]
  },
  {
   "cell_type": "code",
   "execution_count": 2,
   "id": "340eccc8-60ac-4b8c-9807-dcbbc86185e9",
   "metadata": {},
   "outputs": [
    {
     "data": {
      "application/vnd.jupyter.widget-view+json": {
       "model_id": "edcf602d95054bd8897e8c5e0d438b2b",
       "version_major": 2,
       "version_minor": 0
      },
      "text/plain": [
       "tokenizer_config.json:   0%|          | 0.00/55.4k [00:00<?, ?B/s]"
      ]
     },
     "metadata": {},
     "output_type": "display_data"
    },
    {
     "data": {
      "application/vnd.jupyter.widget-view+json": {
       "model_id": "a6195080505c4b019460f8f47606697f",
       "version_major": 2,
       "version_minor": 0
      },
      "text/plain": [
       "tokenizer.json:   0%|          | 0.00/9.09M [00:00<?, ?B/s]"
      ]
     },
     "metadata": {},
     "output_type": "display_data"
    },
    {
     "data": {
      "application/vnd.jupyter.widget-view+json": {
       "model_id": "ce494fbdb9fb4e6eae6c02862d8e7787",
       "version_major": 2,
       "version_minor": 0
      },
      "text/plain": [
       "special_tokens_map.json:   0%|          | 0.00/296 [00:00<?, ?B/s]"
      ]
     },
     "metadata": {},
     "output_type": "display_data"
    },
    {
     "data": {
      "application/vnd.jupyter.widget-view+json": {
       "model_id": "4fab605aebc7497f90ac2c75841aba83",
       "version_major": 2,
       "version_minor": 0
      },
      "text/plain": [
       "config.json:   0%|          | 0.00/855 [00:00<?, ?B/s]"
      ]
     },
     "metadata": {},
     "output_type": "display_data"
    },
    {
     "data": {
      "application/vnd.jupyter.widget-view+json": {
       "model_id": "ec4905a4dec24a2aa7f01f51e82d8e8c",
       "version_major": 2,
       "version_minor": 0
      },
      "text/plain": [
       "model.safetensors.index.json:   0%|          | 0.00/23.9k [00:00<?, ?B/s]"
      ]
     },
     "metadata": {},
     "output_type": "display_data"
    },
    {
     "data": {
      "application/vnd.jupyter.widget-view+json": {
       "model_id": "1fc812b358e447f3a4d2456c9bee4d09",
       "version_major": 2,
       "version_minor": 0
      },
      "text/plain": [
       "Downloading shards:   0%|          | 0/4 [00:00<?, ?it/s]"
      ]
     },
     "metadata": {},
     "output_type": "display_data"
    },
    {
     "data": {
      "application/vnd.jupyter.widget-view+json": {
       "model_id": "55236c89a76649ebb82ba696a6151928",
       "version_major": 2,
       "version_minor": 0
      },
      "text/plain": [
       "model-00001-of-00004.safetensors:   0%|          | 0.00/4.98G [00:00<?, ?B/s]"
      ]
     },
     "metadata": {},
     "output_type": "display_data"
    },
    {
     "data": {
      "application/vnd.jupyter.widget-view+json": {
       "model_id": "e1c9969f80fc47f5a4e88eeae88ee347",
       "version_major": 2,
       "version_minor": 0
      },
      "text/plain": [
       "model-00002-of-00004.safetensors:   0%|          | 0.00/5.00G [00:00<?, ?B/s]"
      ]
     },
     "metadata": {},
     "output_type": "display_data"
    },
    {
     "data": {
      "application/vnd.jupyter.widget-view+json": {
       "model_id": "a41fb42b9fd4408aa4236b4dfc79ea68",
       "version_major": 2,
       "version_minor": 0
      },
      "text/plain": [
       "model-00003-of-00004.safetensors:   0%|          | 0.00/4.92G [00:00<?, ?B/s]"
      ]
     },
     "metadata": {},
     "output_type": "display_data"
    },
    {
     "data": {
      "application/vnd.jupyter.widget-view+json": {
       "model_id": "d34e6da4ca6e4e23b656eea9d93ddc8d",
       "version_major": 2,
       "version_minor": 0
      },
      "text/plain": [
       "model-00004-of-00004.safetensors:   0%|          | 0.00/1.17G [00:00<?, ?B/s]"
      ]
     },
     "metadata": {},
     "output_type": "display_data"
    },
    {
     "data": {
      "application/vnd.jupyter.widget-view+json": {
       "model_id": "b3771f7c2b5a4d18910e13be56fd78a7",
       "version_major": 2,
       "version_minor": 0
      },
      "text/plain": [
       "Loading checkpoint shards:   0%|          | 0/4 [00:00<?, ?it/s]"
      ]
     },
     "metadata": {},
     "output_type": "display_data"
    },
    {
     "data": {
      "application/vnd.jupyter.widget-view+json": {
       "model_id": "d247af1941b84e1fb981ac743ccbbf09",
       "version_major": 2,
       "version_minor": 0
      },
      "text/plain": [
       "generation_config.json:   0%|          | 0.00/184 [00:00<?, ?B/s]"
      ]
     },
     "metadata": {},
     "output_type": "display_data"
    }
   ],
   "source": [
    "model_name = \"meta-llama/Meta-Llama-3.1-8B-Instruct\"\n",
    "tokenizer = AutoTokenizer.from_pretrained(model_name)\n",
    "model = AutoModelForCausalLM.from_pretrained(model_name,\n",
    "                                             #load_in_8bit=True,\n",
    "                                             torch_dtype=torch.bfloat16,\n",
    "                                             device_map=\"auto\"\n",
    "                                            )"
   ]
  },
  {
   "cell_type": "code",
   "execution_count": 3,
   "id": "8b8460fd-afb2-4fe1-aff2-5178d4634515",
   "metadata": {},
   "outputs": [
    {
     "name": "stdout",
     "output_type": "stream",
     "text": [
      "                                                Authors  \\\n",
      "0             Samadzad M.; Ansari F.; Afshari Moez M.A.   \n",
      "1                      Kim S.-W.; Kwon D.-H.; Cho I.-H.   \n",
      "2                    Qin V.L.; Ding G.; Balakrishnan H.   \n",
      "3                                    Sah B.; Titiyal R.   \n",
      "4     Di Mascio P.; Celesti M.; Sabatini M.; Moretti L.   \n",
      "...                                                 ...   \n",
      "2543                                            Do K.D.   \n",
      "2544      Sinha P.; Stoll A.M.; Stilson E.V.; Bevirt J.   \n",
      "2545               Güçlü A.; Arıkan K.B.; Kurtuluş D.F.   \n",
      "2546        Oberschwendtner S.; Roessler C.; Hornung M.   \n",
      "2547  Yang Y.; Karimadini M.; Xiang C.; Teo S.H.; Ch...   \n",
      "\n",
      "                                      Author full names  \\\n",
      "0     Samadzad, Mahdi (50861885300); Ansari, Fatemeh...   \n",
      "1     Kim, Seon-Woong (59347621400); Kwon, Do-Hun (5...   \n",
      "2     Qin, Victor L. (57446368000); Ding, Geoffrey (...   \n",
      "3     Sah, Bhawesh (57195055488); Titiyal, Rohit (57...   \n",
      "4     Di Mascio, Paola (7005495085); Celesti, Matteo...   \n",
      "...                                                 ...   \n",
      "2543                             Do, K.D. (56649733300)   \n",
      "2544  Sinha, Pranay (57210455346); Stoll, Alex M. (5...   \n",
      "2545  Güçlü, Anıl (56337478700); Arıkan, Kutluk Bilg...   \n",
      "2546  Oberschwendtner, Sebastian (57211029382); Roes...   \n",
      "2547  Yang, Yue (34871103500); Karimadini, Mohammad ...   \n",
      "\n",
      "                                           Author(s) ID  \\\n",
      "0                 50861885300; 59222486000; 59221921600   \n",
      "1                 59347621400; 58758755000; 57210525800   \n",
      "2                 57446368000; 57544122500; 57202677518   \n",
      "3                              57195055488; 57195058475   \n",
      "4     7005495085; 59492826300; 59492406000; 55941117000   \n",
      "...                                                 ...   \n",
      "2543                                        56649733300   \n",
      "2544  57210455346; 55849612900; 55849749500; 5636930...   \n",
      "2545              56337478700; 24438001000; 15837320400   \n",
      "2546              57211029382; 56188962300; 55353196700   \n",
      "2547  34871103500; 34869787600; 8454497000; 67015002...   \n",
      "\n",
      "                                                  Title  Year  \\\n",
      "0     Who will board urban air taxis? An analysis of...  2024   \n",
      "1     Temperature Management Strategy for Urban Air ...  2024   \n",
      "2     Market Structures for Service Providers in Adv...  2024   \n",
      "3     Analyzing critical success factors for the imp...  2024   \n",
      "4     Fast-Time Simulations to Study the Capacity of...  2024   \n",
      "...                                                 ...   ...   \n",
      "2543  Coordination control of quadrotor VTOL aircraf...  2015   \n",
      "2544  Design and testing of the joby lotus multifunc...  2015   \n",
      "2545  Attitude and altitude stabilization of a fixed...  2016   \n",
      "2546  Multi objective optimization of wiring harness...  2015   \n",
      "2547  Wide area surveillance of urban environments u...  2015   \n",
      "\n",
      "                                           Source title  \\\n",
      "0                   Journal of Air Transport Management   \n",
      "1                          Sustainability (Switzerland)   \n",
      "2                         Journal of Air Transportation   \n",
      "3     International Journal of Productivity and Perf...   \n",
      "4                                 Future Transportation   \n",
      "...                                                 ...   \n",
      "2543                   International Journal of Control   \n",
      "2544  15th AIAA Aviation Technology, Integration, an...   \n",
      "2545  AIAA Modeling and Simulation Technologies Conf...   \n",
      "2546  8th Biennial Autonomous VTOL Technical Meeting...   \n",
      "2547  IECON 2015 - 41st Annual Conference of the IEE...   \n",
      "\n",
      "                                           Affiliations  \\\n",
      "0     School of Civil Engineering, College of Engine...   \n",
      "1     Department of Electronic Engineering, The Kore...   \n",
      "2     Department of Aeronautics and Astronautics, Ma...   \n",
      "3     D'Amore-McKim School of Business, Northeastern...   \n",
      "4     Department of Civil, Building and Environmenta...   \n",
      "...                                                 ...   \n",
      "2543  Department of Mechanical Engineering, Curtin U...   \n",
      "2544  Transition Robotics, Inc, Santa Cruz, 95060, C...   \n",
      "2545  System Test and Evaluation Department, Roketsa...   \n",
      "2546  Technical University of Munich, Garching, 8574...   \n",
      "2547  Department of Electrical and Computer Engineer...   \n",
      "\n",
      "                              Authors with affiliations  \\\n",
      "0     Samadzad M., School of Civil Engineering, Coll...   \n",
      "1     Kim S.-W., Department of Electronic Engineerin...   \n",
      "2     Qin V.L., Department of Aeronautics and Astron...   \n",
      "3     Sah B., D'Amore-McKim School of Business, Nort...   \n",
      "4     Di Mascio P., Department of Civil, Building an...   \n",
      "...                                                 ...   \n",
      "2543  Do K.D., Department of Mechanical Engineering,...   \n",
      "2544  Sinha P., Transition Robotics, Inc, Santa Cruz...   \n",
      "2545  Güçlü A., System Test and Evaluation Departmen...   \n",
      "2546  Oberschwendtner S., Technical University of Mu...   \n",
      "2547  Yang Y., Department of Electrical and Computer...   \n",
      "\n",
      "                                               Abstract  \\\n",
      "0     Recent advancements in the development of a co...   \n",
      "1     As urban population concentration accelerates,...   \n",
      "2     Proposed concepts of operations for advanced a...   \n",
      "3     Purpose: Companies are adopting innovative met...   \n",
      "4     This article investigates viable solutions to ...   \n",
      "...                                                 ...   \n",
      "2543  This paper presents a constructive design of d...   \n",
      "2544  The development of a wingtip-mounted electric ...   \n",
      "2545  The aim of the current study is to introduce a...   \n",
      "2546  This paper deals with the impact of the wiring...   \n",
      "2547  In this paper, a system for the wide area surv...   \n",
      "\n",
      "                                        Author Keywords  \\\n",
      "0     Air taxis; Airport access; Developing countrie...   \n",
      "1     energy gain; internal resistance; lithium-ion ...   \n",
      "2     Advanced Air Mobility; Airspace RegionAir Traf...   \n",
      "3     Air taxi; Critical success factors; Flying car...   \n",
      "4     aerotaxi; airspace design; airspace structure;...   \n",
      "...                                                 ...   \n",
      "2543  collision avoidance; coordination control; qua...   \n",
      "2544                                                NaN   \n",
      "2545                                                NaN   \n",
      "2546                                                NaN   \n",
      "2547  Buildings; Cameras; Roads; Robustness; Surveil...   \n",
      "\n",
      "                                         Index Keywords  \\\n",
      "0     Iran; air transportation; airport; developing ...   \n",
      "1     carbon emission; climate change; energy effici...   \n",
      "2     Air navigation; Air traffic control; Air trans...   \n",
      "3                                                   NaN   \n",
      "4                                                   NaN   \n",
      "...                                                 ...   \n",
      "2543  Aircraft; Aircraft accidents; Collision avoida...   \n",
      "2544  Aircraft landing; Conceptual design; Flight si...   \n",
      "2545  Aerodynamics; Aircraft models; Automobile manu...   \n",
      "2546  Aircraft landing; Electric wiring; Fixed wings...   \n",
      "2547  Aircraft landing; Buildings; Cameras; Industri...   \n",
      "\n",
      "                                 Correspondence Address Editors  \\\n",
      "0     M. Samadzad; School of Civil Engineering, Coll...     NaN   \n",
      "1     I.-H. Cho; Department of Electronic Engineerin...     NaN   \n",
      "2     V.L. Qin; Department of Aeronautics and Astron...     NaN   \n",
      "3     R. Titiyal; Department of Production and Opera...     NaN   \n",
      "4     P. Di Mascio; Department of Civil, Building an...     NaN   \n",
      "...                                                 ...     ...   \n",
      "2543                                                NaN     NaN   \n",
      "2544                                                NaN     NaN   \n",
      "2545  A. Güçlü; System Test and Evaluation Departmen...     NaN   \n",
      "2546  S. Oberschwendtner; Technical University of Mu...     NaN   \n",
      "2547                                                NaN     NaN   \n",
      "\n",
      "                                              Publisher      ISSN  \\\n",
      "0                                          Elsevier Ltd   9696997   \n",
      "1     Multidisciplinary Digital Publishing Institute...  20711050   \n",
      "2                                    AIAA International  23809450   \n",
      "3                                    Emerald Publishing  17410401   \n",
      "4     Multidisciplinary Digital Publishing Institute...  26737590   \n",
      "...                                                 ...       ...   \n",
      "2543                            Taylor and Francis Ltd.    207179   \n",
      "2544  American Institute of Aeronautics and Astronau...       NaN   \n",
      "2545  American Institute of Aeronautics and Astronau...       NaN   \n",
      "2546                            Vertical Flight Society       NaN   \n",
      "2547  Institute of Electrical and Electronics Engine...       NaN   \n",
      "\n",
      "     Language of Original Document     Document Type Publication Stage  \\\n",
      "0                          English           Article             Final   \n",
      "1                          English           Article             Final   \n",
      "2                          English           Article             Final   \n",
      "3                          English           Article             Final   \n",
      "4                          English           Article             Final   \n",
      "...                            ...               ...               ...   \n",
      "2543                       English           Article             Final   \n",
      "2544                       English  Conference paper             Final   \n",
      "2545                       English  Conference paper             Final   \n",
      "2546                       English  Conference paper             Final   \n",
      "2547                       English  Conference paper             Final   \n",
      "\n",
      "                             Open Access  \n",
      "0                                    NaN  \n",
      "1      All Open Access; Gold Open Access  \n",
      "2                                    NaN  \n",
      "3                                    NaN  \n",
      "4      All Open Access; Gold Open Access  \n",
      "...                                  ...  \n",
      "2543  All Open Access; Green Open Access  \n",
      "2544                                 NaN  \n",
      "2545                                 NaN  \n",
      "2546                                 NaN  \n",
      "2547                                 NaN  \n",
      "\n",
      "[2548 rows x 19 columns]\n"
     ]
    }
   ],
   "source": [
    "import pandas as pd\n",
    "\n",
    "data_train_tw = pd.read_csv('academic_paper_2015-2024.csv', encoding = 'utf-8-sig')\n",
    "print(data_train_tw)"
   ]
  },
  {
   "cell_type": "code",
   "execution_count": 4,
   "id": "7b790d90-b981-4f46-a18c-946ae79ce683",
   "metadata": {},
   "outputs": [],
   "source": [
    "data_train_tw['cleaned_text'] = data_train_tw['Title'] + data_train_tw['Abstract']"
   ]
  },
  {
   "cell_type": "code",
   "execution_count": 6,
   "id": "04c9cbec-df86-4fc4-9d82-d42e983354b3",
   "metadata": {},
   "outputs": [
    {
     "name": "stdout",
     "output_type": "stream",
     "text": [
      "<|begin_of_text|><|start_header_id|>system<|end_header_id|> You are a helpful AI assistant that answers questions briefly and directly.<|eot_id|>\n",
      "<|start_header_id|>user<|end_header_id|> The following texts are research or tweets about urban low-altitude transportation. Rank the attitude as positive, negative, or neutral, and categorize the discussion content into one of the following categories: \n",
      "1: Safety \n",
      "2: Aerodynamics \n",
      "3: Integration and Infrastructure \n",
      "4: Automation \n",
      "5: Price and cost \n",
      "6: Policy \n",
      "7: User experience \n",
      "Only answer the attitude and category number, don't answer anything else. For example: Positive, 5\n",
      "Text: Temperature Management Strategy for Urban Air Mobility Batteries to Improve Energy Efficiency in Low-Temperature ConditionsAs urban population concentration accelerates, issues such as traffic congestion caused by automobiles and climate change due to carbon dioxide emissions are becoming increasingly severe. Recently, urban air mobility (UAM) has been attracting attention as a solution to these problems. UAM refers to a system that uses electric vertical takeoff and landing (eVTOL) aircraft to transport passengers and cargo at low altitudes between key points within urban areas, with lithium-ion batteries as the primary power source. The lithium-ion batteries used in UAM have characteristics that degrade performance in low temperatures, including decreased power output and diminished energy capacity. Although research has been conducted on preheating lithium-ion batteries to address this issue, sufficient consideration has not been given to the energy used for preheating. Therefore, this study compares the energy recovered by preheating lithium-ion batteries with the energy consumed during preheating and proposes a temperature management method for low temperatures that maximizes the energy gain of lithium-ion batteries. © 2024 by the authors. <|eot_id|>\n",
      "<|start_header_id|>assistant<|end_header_id|>\n",
      "\n"
     ]
    }
   ],
   "source": [
    "def generate_prompt(content):\n",
    "    begin = \"<|begin_of_text|><|start_header_id|>system<|end_header_id|>\"\n",
    "    #syst = \"<<SYS>> You are a helpful AI assistant that answers questions briefly and directly.\\n If a question does not make any sense, or is not factually coherent, explain why instead of answering something not correct. If you don't know the answer to a question, please don't share false information.<</SYS>>\\n\"\n",
    "    #inst = \"Read the following text. Does it mention the Gilbert damping constant of a certain material? If so, list the corresponding material and its Gilbert damping canstant.\\n\" + content\n",
    "    syst = \"You are a helpful AI assistant that answers questions briefly and directly.<|eot_id|>\\n<|start_header_id|>user<|end_header_id|>\"\n",
    "    inst = \"The following texts are research or tweets about urban low-altitude transportation. Rank the attitude as positive, negative, or neutral, and categorize the discussion content into one of the following categories: \\n1: Safety \\n2: Aerodynamics \\n3: Integration and Infrastructure \\n4: Automation \\n5: Price and cost \\n6: Policy \\n7: User experience \\nOnly answer the attitude and category number, don't answer anything else. For example: Positive, 5\\nText: \"+content\n",
    "    end = \"<|eot_id|>\\n<|start_header_id|>assistant<|end_header_id|>\\n\"\n",
    "    prompt = (\" \").join([begin, syst, inst, end])\n",
    "    return prompt\n",
    "\n",
    "#print(generate_prompt('How are you?'))\n",
    "#print(generate_prompt(data_train['text_cleaned'][1]))\n",
    "print(generate_prompt(data_train_tw['cleaned_text'][1]))"
   ]
  },
  {
   "cell_type": "code",
   "execution_count": null,
   "id": "2a10bf3c-2959-4697-abe3-0a010973c5df",
   "metadata": {},
   "outputs": [
    {
     "name": "stdout",
     "output_type": "stream",
     "text": [
      "已保存到 output.csv，当前迭代次数：19，用时：9.96 秒\n",
      "已保存到 output.csv，当前迭代次数：39，用时：9.99 秒\n",
      "已保存到 output.csv，当前迭代次数：59，用时：9.87 秒\n",
      "已保存到 output.csv，当前迭代次数：79，用时：9.92 秒\n",
      "已保存到 output.csv，当前迭代次数：99，用时：9.94 秒\n",
      "已保存到 output.csv，当前迭代次数：119，用时：9.66 秒\n",
      "已保存到 output.csv，当前迭代次数：139，用时：9.98 秒\n",
      "已保存到 output.csv，当前迭代次数：159，用时：9.94 秒\n",
      "已保存到 output.csv，当前迭代次数：179，用时：9.83 秒\n",
      "已保存到 output.csv，当前迭代次数：199，用时：9.96 秒\n",
      "已保存到 output.csv，当前迭代次数：219，用时：9.88 秒\n",
      "已保存到 output.csv，当前迭代次数：239，用时：9.86 秒\n",
      "已保存到 output.csv，当前迭代次数：259，用时：9.80 秒\n",
      "已保存到 output.csv，当前迭代次数：279，用时：9.93 秒\n",
      "已保存到 output.csv，当前迭代次数：299，用时：10.23 秒\n",
      "已保存到 output.csv，当前迭代次数：319，用时：9.97 秒\n",
      "已保存到 output.csv，当前迭代次数：339，用时：9.96 秒\n",
      "已保存到 output.csv，当前迭代次数：359，用时：9.95 秒\n",
      "已保存到 output.csv，当前迭代次数：379，用时：9.87 秒\n",
      "已保存到 output.csv，当前迭代次数：399，用时：9.85 秒\n",
      "已保存到 output.csv，当前迭代次数：419，用时：10.08 秒\n",
      "已保存到 output.csv，当前迭代次数：439，用时：9.92 秒\n"
     ]
    }
   ],
   "source": [
    "import pandas as pd\n",
    "import numpy as np\n",
    "import time\n",
    "\n",
    "data = []\n",
    "save_interval = 20\n",
    "\n",
    "start_time = time.time()  # 记录开始时间\n",
    "\n",
    "for i in range(len(data_train_tw)):#['text_cleaned']):\n",
    "    if i % 1 == 0:\n",
    "        #if pd.isna(data_train_tw.iloc[i]['result']) and not pd.isna(data_train_tw.iloc[i]['cleaned_text']):\n",
    "        if not pd.isna(data_train_tw.iloc[i]['cleaned_text']):\n",
    "            #print(i)\n",
    "            \n",
    "            input_prompt = generate_prompt(data_train_tw.iloc[i]['cleaned_text'])\n",
    "            #input_tokens = tokenizer(input_prompt, return_tensors=\"pt\")[\"input_ids\"].to(\"cuda\")\n",
    "            #inputs = tokenizer(input_prompt, return_tensors=\"pt\", padding=True, truncation=True).to(\"cuda\")\n",
    "            inputs = tokenizer(input_prompt, return_tensors=\"pt\", truncation=True).to(\"cuda\")\n",
    "            input_tokens = inputs[\"input_ids\"]\n",
    "            attention_mask = inputs[\"attention_mask\"]\n",
    "            with torch.cuda.amp.autocast():\n",
    "                generation_output = model.generate(\n",
    "                    input_ids=input_tokens,\n",
    "                    attention_mask=attention_mask,\n",
    "                    max_new_tokens=8,\n",
    "                    do_sample=False,\n",
    "                    repetition_penalty=1.1,\n",
    "                    num_return_sequences=1,\n",
    "                    eos_token_id=tokenizer.eos_token_id,\n",
    "                    pad_token_id=tokenizer.eos_token_id\n",
    "                )\n",
    "            op = tokenizer.decode(generation_output[0], skip_special_tokens=True)\n",
    "            #print(op)\n",
    "\n",
    "            inst_index = op.find('assistant\\n')\n",
    "        \n",
    "            if inst_index != -1:\n",
    "                #print(text)\n",
    "                #print(op[inst_index + len('assistant\\n'):])\n",
    "                #data.append({\"number\": i, \"link\": data_train_tw.iloc[i]['link'], \"text\": data_train_tw.iloc[i]['cleaned_text'], \"result\": op[inst_index + len('assistant\\n'):].replace('\\n', ' ')})\n",
    "                data.append({\"number\": i, \"link\": data_train_tw.iloc[i]['Title'], \"text\": data_train_tw.iloc[i]['Abstract'], \"result\": op[inst_index + len('assistant\\n'):].replace('\\n', ' ')})\n",
    "            else:\n",
    "                print(\"未找到'assistant\\n'标记\")\n",
    "                #data.append({\"number\": i, \"text\": text, \"sentiment\":\"\"})\n",
    "    \n",
    "            # 每 save_interval 个迭代保存一次\n",
    "            if len(data) == save_interval:\n",
    "                df = pd.DataFrame(data)\n",
    "                df.to_csv(\"output_tw.csv\", encoding = 'utf-8-sig', index=False, mode='a', header=False)  # 追加模式\n",
    "                data = []\n",
    "                end_time = time.time()  # 记录结束时间\n",
    "                elapsed_time = end_time - start_time  # 计算用时\n",
    "                print(f\"已保存到 output.csv，当前迭代次数：{i}，用时：{elapsed_time:.2f} 秒\")\n",
    "        \n",
    "                start_time = end_time  # 更新开始时间，用于计算下一个周期的用时\n",
    "\n",
    "# 最后一次保存\n",
    "df = pd.DataFrame(data)\n",
    "df.to_csv(\"output_tw.csv\", encoding = 'utf-8-sig', index=False, mode='a', header=False)\n",
    "print(\"已保存到 output_tw.csv\")\n",
    "            "
   ]
  },
  {
   "cell_type": "code",
   "execution_count": null,
   "id": "4ed1acd7-c2b8-4a22-a35c-fcbd94f52eae",
   "metadata": {},
   "outputs": [],
   "source": []
  },
  {
   "cell_type": "code",
   "execution_count": null,
   "id": "e1da8769-d9ae-4f0d-a139-75efcfac928b",
   "metadata": {},
   "outputs": [],
   "source": []
  },
  {
   "cell_type": "code",
   "execution_count": null,
   "id": "42ab5041-cf07-49a1-a238-311ed4a779ed",
   "metadata": {},
   "outputs": [],
   "source": []
  },
  {
   "cell_type": "code",
   "execution_count": null,
   "id": "25fc8124-802f-4ba9-8507-5cb34e7ee4e5",
   "metadata": {},
   "outputs": [],
   "source": []
  },
  {
   "cell_type": "code",
   "execution_count": 4,
   "id": "94f68fc9-962f-4f5f-8c74-739fb4e2dc70",
   "metadata": {},
   "outputs": [
    {
     "name": "stdout",
     "output_type": "stream",
     "text": [
      "Dataset({\n",
      "    features: ['title', 'doi', 'abstract', 'publicationDate'],\n",
      "    num_rows: 165071\n",
      "})\n",
      "Dataset({\n",
      "    features: ['title', 'abstract', 'publicationDate'],\n",
      "    num_rows: 559\n",
      "})\n",
      "The abstract of the paper:\n",
      " Inconel 625 sustainable milling surface integrity and the dependence on alloy processing route\n",
      " Abstract: The discovery of deepwater oil and gas sources has altered the scenario of world production of oil products, attracting even more attention to nickel superalloys. However, this class of materials can be used in several applications. Furthermore, nickel superalloys are highly dependent on their processing history, and the manner in which superalloys react to machining can directly affect the finished product. This work aims to evaluate the surface integrity of two different materials after cryogenic side-milling in conditions that stimulate severe plastic deformation (SPD) and high heat generation. The results show that the material response to machining depends strongly on the pre-processing route instead of most assumptions. While cryogenic cooling led to significant sub-surface hardness and microstructural changes in wrought Inconel 625 alloy, such changes were not observed for clad Inconel 625. Therefore, in order to achieve significant surface integrity changes, process parameters need to be selected and optimized accordingly. Also, the findings indicate that some new factors established significant affect/change surface integrity: (a) SPD through a high r_β/h ratio; (b) the specific pre-processing thermomechanical history of the workpiece material; and (c) and cryogenic cooling, by changing material properties, reducing temperature and altering cutting phenomena and chip formation. </s> \n"
     ]
    }
   ],
   "source": [
    "data = load_dataset(\"enyuan/Abstracts\")\n",
    "data_train = data[\"train\"]\n",
    "\n",
    "custom_data = load_dataset('json', data_files='data_eval.json')\n",
    "data_val = custom_data['train']\n",
    "\n",
    "# Print the dataset details\n",
    "print(data_train)\n",
    "print(data_val)\n",
    "\n",
    "# Access an example\n",
    "#example = data_train[0]\n",
    "#print(example)\n",
    "\n",
    "def generate_prompt(title, abstract=None, eos_token=\"</s>\"):\n",
    "  instruction = \"The abstract of the paper:\\n\"\n",
    "  input = f\"{title}\\n\"\n",
    "  abstract = f\"Abstract: {abstract + ' ' + eos_token if abstract else ''} \"\n",
    "  prompt = (\" \").join([instruction, input, abstract])\n",
    "  return prompt\n",
    "\n",
    "print(generate_prompt(data_train[0][\"title\"], data_train[0][\"abstract\"]))"
   ]
  },
  {
   "cell_type": "code",
   "execution_count": 4,
   "id": "347f25a1-b25f-40a6-9f81-4c0bdcfe8e85",
   "metadata": {},
   "outputs": [
    {
     "name": "stdout",
     "output_type": "stream",
     "text": [
      "The abstract of the paper:\n",
      " Effect of cryogenic cooling on residual stresses and surface finish of 316L during hybrid manufacturing\n",
      " Abstract:   In this work, a novel approach for reducing the residual stress in the welded joints of stainless steel is presented. A new process called Hybrid Manufacturing (HM) was developed to reduce the residual stress in the welded joints by using two different techniques namely, laser beam welding (LBW) and cryogenic treatment (CT). The effectiveness of HM technique has been studied with respect to the reduction of residual stress and improvement in surface roughness. The results showed that the residual stress can be reduced up to 40% when compared to conventional LBW method. Moreover, the surface roughness can also be improved significantly as shown by the Ra value which decreases from 25.87µm to 19.31µm after CT.\n",
      "The full text of the article: http://www.sciencedirect.com/science/article/pii/S092583881400132X\n"
     ]
    }
   ],
   "source": [
    "input_prompt = generate_prompt(data_train[50][\"title\"])\n",
    "input_tokens = tokenizer(input_prompt, return_tensors=\"pt\")[\"input_ids\"].to(\"cuda\")\n",
    "with torch.cuda.amp.autocast():\n",
    "  generation_output = model.generate(\n",
    "      input_ids=input_tokens,\n",
    "      max_new_tokens=1000,\n",
    "      do_sample=True,\n",
    "      top_k=10,\n",
    "      top_p=0.9,\n",
    "      temperature=0.3,\n",
    "      repetition_penalty=1.15,\n",
    "      num_return_sequences=1,\n",
    "      eos_token_id=tokenizer.eos_token_id,\n",
    "    )\n",
    "op = tokenizer.decode(generation_output[0], skip_special_tokens=True)\n",
    "print(op)"
   ]
  },
  {
   "cell_type": "code",
   "execution_count": 4,
   "id": "70887e88-ddc1-44b4-848b-fd554027b4c7",
   "metadata": {},
   "outputs": [],
   "source": [
    "with open('materials.txt', 'r') as file:\n",
    "    word_list = file.read().splitlines()"
   ]
  }
 ],
 "metadata": {
  "kernelspec": {
   "display_name": "Python 3 (ipykernel)",
   "language": "python",
   "name": "python3"
  },
  "language_info": {
   "codemirror_mode": {
    "name": "ipython",
    "version": 3
   },
   "file_extension": ".py",
   "mimetype": "text/x-python",
   "name": "python",
   "nbconvert_exporter": "python",
   "pygments_lexer": "ipython3",
   "version": "3.10.13"
  }
 },
 "nbformat": 4,
 "nbformat_minor": 5
}
